{
 "cells": [
  {
   "cell_type": "code",
   "execution_count": null,
   "id": "1a451d6d-e623-4267-9b50-ebf0ed924ed5",
   "metadata": {},
   "outputs": [],
   "source": []
  }
 ],
 "metadata": {
  "kernelspec": {
   "display_name": "",
   "name": ""
  },
  "language_info": {
   "name": ""
  }
 },
 "nbformat": 4,
 "nbformat_minor": 5
}
